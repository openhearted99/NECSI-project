{
 "cells": [
  {
   "cell_type": "markdown",
   "metadata": {},
   "source": [
    "# Iterative Prisoner's Dilemma \n",
    "#### (Draft 3) \n",
    "###### in which he finally got around to implementing iteration..."
   ]
  },
  {
   "cell_type": "code",
   "execution_count": 21,
   "metadata": {},
   "outputs": [
    {
     "name": "stdout",
     "output_type": "stream",
     "text": [
      "Alice chose to cooperate.\n",
      "Bob chose to cooperate.\n",
      "Alice and Bob will only spend a year in prison.\n",
      "\n",
      "\n",
      "Alice won  points.\n",
      "Bob won points.\n"
     ]
    }
   ],
   "source": [
    "#Setting up and importing stuff\n",
    "from numpy import *\n",
    "prisoners_choices = ['Defect','Cooperate']\n",
    "rounds_of_game = 1\n",
    "\n",
    "#Just defining initializaition\n",
    "def initialize():\n",
    "    global Alice, Bob\n",
    "    Alice = random.choice(prisoners_choices, 1, p=[0.5,0.5])\n",
    "    Bob = random.choice(prisoners_choices, 1, p=[0.5,0.5])\n",
    "    \n",
    "    #This is just a work around for a weird bug that I encountered.\n",
    "    Alice = \" \".join(str(x) for x in Alice)\n",
    "    Bob = \" \".join(str(x) for x in Bob)\n",
    "    \n",
    "\n",
    "#Setting up the experiment. Yes, it's structured like a proof by casework/exhaustion, but it's my first \n",
    "#working program. Sorry about that!\n",
    "def experiment():\n",
    "    if Alice == Bob and Bob in ['Defect']:\n",
    "        print 'Both Alice and Bob will spend two years in prison.'\n",
    "    else:\n",
    "        if Alice in ['Cooperate'] and Bob in ['Defect']:\n",
    "            print 'Bob will walk free. Alice is charged with three years.'\n",
    "        else:\n",
    "            if Alice == Bob and Bob in ['Cooperate']:\n",
    "                print 'Alice and Bob will only spend a year in prison.'\n",
    "            else:\n",
    "                print 'Alice will walk free. Bob is charged with three years.'\n",
    "\n",
    "\n",
    "#This is the actual program. \n",
    "for t in range(rounds_of_game):  \n",
    "    initialize()\n",
    "    print 'Alice chose to ' + Alice.lower() + '.'\n",
    "    print 'Bob chose to ' + Bob.lower() + '.'\n",
    "    experiment()\n",
    "    print '\\n'\n",
    "\n",
    "print \"Alice won \" + \" points.\"\n",
    "print \"Bob won\" + \" points.\""
   ]
  }
 ],
 "metadata": {
  "kernelspec": {
   "display_name": "Python 2",
   "language": "python",
   "name": "python2"
  },
  "language_info": {
   "codemirror_mode": {
    "name": "ipython",
    "version": 2
   },
   "file_extension": ".py",
   "mimetype": "text/x-python",
   "name": "python",
   "nbconvert_exporter": "python",
   "pygments_lexer": "ipython2",
   "version": "2.7.14"
  }
 },
 "nbformat": 4,
 "nbformat_minor": 2
}
